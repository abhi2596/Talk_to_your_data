{
 "cells": [
  {
   "cell_type": "code",
   "execution_count": 1,
   "metadata": {},
   "outputs": [],
   "source": [
    "import pandas as pd\n",
    "from llama_index.experimental.query_engine import PandasQueryEngine"
   ]
  },
  {
   "cell_type": "code",
   "execution_count": 2,
   "metadata": {},
   "outputs": [
    {
     "name": "stderr",
     "output_type": "stream",
     "text": [
      "c:\\Users\\abhij\\OneDrive\\Desktop\\UnifyAI_TD\\.venv\\lib\\site-packages\\tqdm\\auto.py:21: TqdmWarning: IProgress not found. Please update jupyter and ipywidgets. See https://ipywidgets.readthedocs.io/en/stable/user_install.html\n",
      "  from .autonotebook import tqdm as notebook_tqdm\n",
      "None of PyTorch, TensorFlow >= 2.0, or Flax have been found. Models won't be available and only tokenizers, configuration and file/data utilities can be used.\n"
     ]
    }
   ],
   "source": [
    "from llama_index.llms.openai_like import OpenAILike\n",
    "import os \n",
    "from typing import Any,Optional\n",
    "\n",
    "class Unify(OpenAILike):\n",
    "    def __init__(\n",
    "        self,\n",
    "        model: str,\n",
    "        api_key: Optional[str] = None,\n",
    "        api_base: str = \"https://api.unify.ai/v0\",\n",
    "        is_chat_model: bool = True,\n",
    "        **kwargs: Any,\n",
    "    ) -> None:\n",
    "        api_key = api_key or os.environ.get(\"UNIFY_API_KEY\", None)\n",
    "        super().__init__(\n",
    "            model=model,\n",
    "            api_key=api_key,\n",
    "            api_base=api_base,\n",
    "            is_chat_model=is_chat_model,\n",
    "            **kwargs,\n",
    "        )\n",
    "\n",
    "    @classmethod\n",
    "    def class_name(cls) -> str:\n",
    "        \"\"\"Get class name.\"\"\"\n",
    "        return \"UnifyLLM\""
   ]
  },
  {
   "cell_type": "code",
   "execution_count": 6,
   "metadata": {},
   "outputs": [],
   "source": [
    "from llama_index.core import Settings\n",
    "\n",
    "df = pd.read_csv(\"train.csv\")\n",
    "Settings.llm = Unify(api_key=\"cUEAzLeS-sGwU83yIPMjkAK5YDJuDWpSRCLAqyQcqoM=\",model=\"deepseek-coder-33b-instruct@together-ai\")\n",
    "query_engine = PandasQueryEngine(df=df, verbose=True)"
   ]
  },
  {
   "cell_type": "code",
   "execution_count": 7,
   "metadata": {},
   "outputs": [
    {
     "name": "stdout",
     "output_type": "stream",
     "text": [
      "> Pandas Instructions:\n",
      "```\n",
      "\n",
      "df.shape[0]\n",
      "\n",
      "```\n",
      "> Pandas Output: 891\n"
     ]
    }
   ],
   "source": [
    "response = query_engine.query(\n",
    "    \"How many rows are there in the dataframe\",\n",
    ")"
   ]
  },
  {
   "cell_type": "code",
   "execution_count": null,
   "metadata": {},
   "outputs": [],
   "source": []
  }
 ],
 "metadata": {
  "kernelspec": {
   "display_name": ".venv",
   "language": "python",
   "name": "python3"
  },
  "language_info": {
   "codemirror_mode": {
    "name": "ipython",
    "version": 3
   },
   "file_extension": ".py",
   "mimetype": "text/x-python",
   "name": "python",
   "nbconvert_exporter": "python",
   "pygments_lexer": "ipython3",
   "version": "3.9.13"
  }
 },
 "nbformat": 4,
 "nbformat_minor": 2
}
